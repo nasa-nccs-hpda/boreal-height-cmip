{
 "cells": [
  {
   "cell_type": "code",
   "execution_count": null,
   "id": "978e284c-210c-4315-9ce2-f7b337b00da4",
   "metadata": {},
   "outputs": [],
   "source": [
    "# This notebook is to randomly select 500 points in ATL08 dataframe, \n",
    "# then buffer each point with 100 (bioclim) pixels (~100km) in x- and y-direction to form grdding box\n",
    "# aggregate alt08 data to grid cells"
   ]
  },
  {
   "cell_type": "code",
   "execution_count": 1,
   "id": "6799b139-60ae-4bd1-9eb8-9a3a8a7b2ded",
   "metadata": {},
   "outputs": [],
   "source": [
    "import geopandas as gpd\n",
    "import rioxarray as rxr"
   ]
  },
  {
   "cell_type": "code",
   "execution_count": 13,
   "id": "1daf9292-bde4-4103-a54c-8de634373da5",
   "metadata": {},
   "outputs": [],
   "source": [
    "from shapely.geometry import box"
   ]
  },
  {
   "cell_type": "code",
   "execution_count": null,
   "id": "cc88aa61-c550-42fc-a2eb-836890e5e927",
   "metadata": {},
   "outputs": [],
   "source": [
    "def get_bioclim_ref():\n",
    "    biofn = \"/adapt/nobackup/projects/ilab/data/worldclim/1km/bioclim/wc2.0_30s_bio/wc2.0_bio_30s_02.tif\"\n",
    "    ds = rxr.open_rasterio(biofn)\n",
    "    csize = ds.rio.resolution()[0] # cell size of raster\n",
    "\n",
    "    lons = ds.x.values # longitude array\n",
    "    lats = ds.y.values # latitude array\n",
    "return csize, lons, lats\n",
    "\n"
   ]
  },
  {
   "cell_type": "code",
   "execution_count": null,
   "id": "881aa3b6-4942-40cd-9205-8b26c2321c53",
   "metadata": {},
   "outputs": [],
   "source": [
    "def fill_one_box(atl08_gdf, box):\n",
    "    # box : footprint of grids"
   ]
  },
  {
   "cell_type": "code",
   "execution_count": 10,
   "id": "14301281-95d7-42bc-b69e-41180a04a107",
   "metadata": {},
   "outputs": [],
   "source": [
    "\n",
    "\n",
    "def create_cell(center_x, center_y, ref_raster, npix=100):\n",
    "    # extract coords from reference raster\n",
    "    ds = rxr.open_rasterio(ref_raster)\n",
    "    lons = ds.x.values\n",
    "    lats = ds.y.values\n",
    "    xsize, ysize = ds.rio.resolution()\n",
    "    \n",
    "    \n",
    "    # find nearest point in raster\n",
    "    pick = ds.sel(x=center_x, y=center_y, method='nearest')\n",
    "    xid = list(lons).index(pick.x.values)\n",
    "    yid = list(lats).index(pick.y.values)\n",
    "    \n",
    "    # create x-axis and y-axis of cell\n",
    "    xs = lons[(xid-npix):(xid+npix)]\n",
    "    ys = lats[(yid-npix):(yid+npix)]\n",
    "    \n",
    "    return xs, ys"
   ]
  },
  {
   "cell_type": "code",
   "execution_count": 2,
   "id": "628bfce6-8c82-43c0-a6ec-ac8a81483102",
   "metadata": {},
   "outputs": [
    {
     "name": "stdout",
     "output_type": "stream",
     "text": [
      "Read Atl08 Completed\n"
     ]
    }
   ],
   "source": [
    "# read in atl08 gdf (dataset prepared by PM, with multiple filters)\n",
    "fn = \"/adapt/nobackup/people/jli30/workspace/forest/STG/data/atl08_2020_filtered.parquet\"\n",
    "c_gdf = gpd.read_parquet(fn)\n",
    "print(\"Read Atl08 Completed\")"
   ]
  },
  {
   "cell_type": "code",
   "execution_count": 3,
   "id": "0a6a146c-a26f-4e04-b5c8-22daf36c454a",
   "metadata": {},
   "outputs": [],
   "source": [
    "# randomly select points \n",
    "n_spl = 500\n",
    "seed = 42\n",
    "pts = c_gdf['geometry'].sample(n_spl, random_state=seed)"
   ]
  },
  {
   "cell_type": "code",
   "execution_count": 6,
   "id": "da83e2af-ffec-4474-b82a-c7a80ef49e26",
   "metadata": {},
   "outputs": [
    {
     "data": {
      "text/plain": [
       "-74.8553695678711"
      ]
     },
     "execution_count": 6,
     "metadata": {},
     "output_type": "execute_result"
    }
   ],
   "source": [
    "pts.iloc[0].x"
   ]
  },
  {
   "cell_type": "code",
   "execution_count": 11,
   "id": "a939402c-8d67-49d6-b08b-ae4593e8d8f6",
   "metadata": {},
   "outputs": [],
   "source": [
    "rst = \"/adapt/nobackup/projects/ilab/data/worldclim/1km/bioclim/wc2.0_30s_bio/wc2.0_bio_30s_02.tif\"\n",
    "xx, yy = create_cell(pts.iloc[0].x, pts.iloc[0].y, rst, npix=10)"
   ]
  },
  {
   "cell_type": "code",
   "execution_count": 16,
   "id": "58e4d29a-7506-473f-bfdd-4df65dcc65c4",
   "metadata": {},
   "outputs": [],
   "source": [
    "ds = rxr.open_rasterio(rst)\n",
    "xsize, ysize= ds.rio.resolution()"
   ]
  },
  {
   "cell_type": "code",
   "execution_count": 12,
   "id": "200c61fb-06f2-4273-b8d0-6984da7b3ff4",
   "metadata": {},
   "outputs": [
    {
     "data": {
      "text/plain": [
       "(array([-74.9375    , -74.92916667, -74.92083333, -74.9125    ,\n",
       "        -74.90416667, -74.89583333, -74.8875    , -74.87916667,\n",
       "        -74.87083333, -74.8625    , -74.85416667, -74.84583333,\n",
       "        -74.8375    , -74.82916667, -74.82083333, -74.8125    ,\n",
       "        -74.80416667, -74.79583333, -74.7875    , -74.77916667]),\n",
       " array([55.8625    , 55.85416667, 55.84583333, 55.8375    , 55.82916667,\n",
       "        55.82083333, 55.8125    , 55.80416667, 55.79583333, 55.7875    ,\n",
       "        55.77916667, 55.77083333, 55.7625    , 55.75416667, 55.74583333,\n",
       "        55.7375    , 55.72916667, 55.72083333, 55.7125    , 55.70416667]))"
      ]
     },
     "execution_count": 12,
     "metadata": {},
     "output_type": "execute_result"
    }
   ],
   "source": [
    "xx, yy"
   ]
  },
  {
   "cell_type": "code",
   "execution_count": 23,
   "id": "ca4d79ec-c2d5-4ce1-935c-13314197d8e8",
   "metadata": {},
   "outputs": [],
   "source": [
    "bx = list(map(lambda x, y: box(x, y, x+xsize, y+ysize), xx, yy))"
   ]
  },
  {
   "cell_type": "code",
   "execution_count": 25,
   "id": "ea471880-e0d2-4bf4-a442-c96810348b44",
   "metadata": {},
   "outputs": [
    {
     "data": {
      "text/plain": [
       "[<shapely.geometry.polygon.Polygon at 0x14fc21e70fd0>,\n",
       " <shapely.geometry.polygon.Polygon at 0x14fc21e70f50>,\n",
       " <shapely.geometry.polygon.Polygon at 0x14fc1dec7cd0>,\n",
       " <shapely.geometry.polygon.Polygon at 0x14fc21e705d0>,\n",
       " <shapely.geometry.polygon.Polygon at 0x14fc21e70650>,\n",
       " <shapely.geometry.polygon.Polygon at 0x14fc21e62050>,\n",
       " <shapely.geometry.polygon.Polygon at 0x14fc21e62210>,\n",
       " <shapely.geometry.polygon.Polygon at 0x14fc21e62250>,\n",
       " <shapely.geometry.polygon.Polygon at 0x14fc21e62290>,\n",
       " <shapely.geometry.polygon.Polygon at 0x14fc21e622d0>,\n",
       " <shapely.geometry.polygon.Polygon at 0x14fc21e62310>,\n",
       " <shapely.geometry.polygon.Polygon at 0x14fc21e62350>,\n",
       " <shapely.geometry.polygon.Polygon at 0x14fc21e62390>,\n",
       " <shapely.geometry.polygon.Polygon at 0x14fc21e623d0>,\n",
       " <shapely.geometry.polygon.Polygon at 0x14fc21e62410>,\n",
       " <shapely.geometry.polygon.Polygon at 0x14fc21e62450>,\n",
       " <shapely.geometry.polygon.Polygon at 0x14fc21e62490>,\n",
       " <shapely.geometry.polygon.Polygon at 0x14fc21e624d0>,\n",
       " <shapely.geometry.polygon.Polygon at 0x14fc21e62510>,\n",
       " <shapely.geometry.polygon.Polygon at 0x14fc21e62550>]"
      ]
     },
     "execution_count": 25,
     "metadata": {},
     "output_type": "execute_result"
    }
   ],
   "source": []
  },
  {
   "cell_type": "code",
   "execution_count": null,
   "id": "c022f5eb-5e19-458b-8ec1-591f8e4cdf61",
   "metadata": {},
   "outputs": [],
   "source": []
  }
 ],
 "metadata": {
  "kernelspec": {
   "display_name": "ilab-kernel",
   "language": "python",
   "name": "python3"
  },
  "language_info": {
   "codemirror_mode": {
    "name": "ipython",
    "version": 3
   },
   "file_extension": ".py",
   "mimetype": "text/x-python",
   "name": "python",
   "nbconvert_exporter": "python",
   "pygments_lexer": "ipython3",
   "version": "3.7.12"
  }
 },
 "nbformat": 4,
 "nbformat_minor": 5
}
