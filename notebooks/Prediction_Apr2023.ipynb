{
 "cells": [
  {
   "cell_type": "raw",
   "id": "f7633e46-e0fe-4940-a21d-e99136322d0d",
   "metadata": {
    "tags": []
   },
   "source": [
    "# ZWW workspace -- Boreal Forest Height Part.2 \n",
    "This notebook is to apply pre-trained Random Forest model to estimate potential forest height given environmental covariates\n",
    "\n",
    "Revision: JL 04/17/2023"
   ]
  },
  {
   "cell_type": "raw",
   "id": "bcac3420-f257-4277-80c3-9566406379be",
   "metadata": {},
   "source": [
    "####!pip install shap"
   ]
  },
  {
   "cell_type": "code",
   "execution_count": null,
   "id": "fb519182-172e-4fc2-87e6-5f91bd4d741b",
   "metadata": {
    "tags": []
   },
   "outputs": [],
   "source": [
    "import os\n",
    "import sys\n",
    "import rioxarray as rxr\n",
    "import numpy as np\n",
    "import treelite\n",
    "import rasterio as rio\n",
    "import matplotlib\n",
    "\n",
    "from osgeo import gdal,gdal_array,osr\n",
    "\n",
    "import matplotlib.pyplot as plt\n",
    "\n",
    "import panel as pn\n",
    "\n",
    "from tqdm import tqdm\n",
    "\n",
    "import holoviews as hv\n",
    "import geoviews as gv\n",
    "gv.extension('bokeh')\n",
    "#gv.extension('matplotlib')\n",
    "\n",
    "import xarray as xr\n",
    "\n",
    "import joblib\n",
    "\n",
    "#import shap\n",
    "\n",
    "#save the plots for comparison\n",
    "import cartopy.crs as ccrs\n",
    "from bokeh.resources import INLINE\n",
    "\n",
    "#sys.path.append('/home/jovyan/BOREAL_MD/rfexpl')\n",
    "#import rfexpl\n",
    "\n",
    "import warnings\n",
    "warnings.filterwarnings(\"ignore\")\n",
    "\n",
    "#shap.initjs()"
   ]
  },
  {
   "cell_type": "code",
   "execution_count": null,
   "id": "b6e20097-c905-402e-a344-ade0c1e1c5f1",
   "metadata": {},
   "outputs": [],
   "source": [
    "import glob"
   ]
  },
  {
   "cell_type": "code",
   "execution_count": null,
   "id": "04903dc9-8ccc-4d14-9f30-9752adbdba17",
   "metadata": {},
   "outputs": [],
   "source": [
    "gv.__version__"
   ]
  },
  {
   "cell_type": "code",
   "execution_count": null,
   "id": "indonesian-grave",
   "metadata": {},
   "outputs": [],
   "source": [
    "## Define global variables\n",
    "\n",
    "#Circumpolar\n",
    "#minlon = -179.02\n",
    "#maxlon = 180\n",
    "#minlat = 49.99\n",
    "#maxlat = 74.95\n",
    "\n",
    "#Eurasia\n",
    "#minlon = 25\n",
    "#maxlon = 179.02\n",
    "#minlat = 52.01\n",
    "#maxlat = 75.00\n",
    "\n",
    "\n",
    "#04/17/2023\n",
    "minlon = -169\n",
    "maxlon = -50\n",
    "minlat = 45\n",
    "maxlat = 75\n",
    "\n",
    "bbox = [minlon, minlat, maxlon, maxlat]\n",
    "#fn = '/efs/STG_Tutorial_Data/BorealHeight_RF/prediction/wc2.1_2.5m_bio_1.tif'\n",
    "fn = '/explore/nobackup/projects/ilab/data/worldclim/1km/bioclim_cmip6/wc2.1_2.5m_bio/wc2.1_2.5m_bio_1.tif'\n",
    "tmp = rxr.open_rasterio(fn, mask_and_scale=True).rio.clip_box(minlon, minlat, maxlon, maxlat)\n",
    "lons = tmp.x.values\n",
    "lats = tmp.y.values\n",
    "shape = (len(lats), len(lons))\n",
    "print('Expected size:')\n",
    "print(shape)\n",
    "tmp=None\n",
    "\n",
    "print('Lons:')\n",
    "print(len(lons))\n",
    "with rio.open(fn) as src:\n",
    "    meta = src.meta\n",
    "#print(meta)\n",
    "src.close()\n",
    "# color map for prediction\n",
    "## 'black','#636363','#fc8d59','#fee08b','#ffffbf','#d9ef8b','#91cf60','#1a9850'\n",
    "clrs = ['#fee08b','#ffffbf','#d9ef8b','#91cf60','#1a9850']\n",
    "cmap_p = matplotlib.colors.LinearSegmentedColormap.from_list(name=\"color_p\", \n",
    "                                                             colors=clrs, N=16) \n",
    "\n",
    "# color map for trend\n",
    "brbg= matplotlib.cm.get_cmap('BrBG', 256)\n",
    "grey = matplotlib.cm.get_cmap('Greys', 20)\n",
    "gs = grey(np.linspace(0, 1, 20))\n",
    "newcolors = brbg(np.linspace(0, 1, 256))\n",
    "newcolors[85:170, :] = gs[5]\n",
    "cmap_t = matplotlib.colors.ListedColormap(newcolors)\n",
    "\n",
    "# set basemap\n",
    "baseMap = gv.tile_sources.EsriImagery\n",
    "#baseMapRGB = gv.util.get_tile_rgb(baseMap,bbox=(minlon, minlat, maxlon, maxlat), zoom_level=1).opts(width=800, height=400, projection=ccrs.PlateCarree())"
   ]
  },
  {
   "cell_type": "code",
   "execution_count": null,
   "id": "sapphire-singing",
   "metadata": {},
   "outputs": [],
   "source": [
    "# function to aggregate predictors\n",
    "def build_predictors(bio_file, bnds, pf_fn=None):\n",
    "    #get permafrost\n",
    "    #Circumpolar\n",
    "    #pf_fn = \"/efs/zwwillia/BorealHeight_Data/Global_data/UiO_PEX_PERPROB_3.0_20171201_2000_2016_warp_clip_global_25min.tif\"\n",
    "    #Eurasia\n",
    "    #pf_fn = \"/efs/zwwillia/BorealHeight_Data/Eurasia_data/UiO_PEX_PERPROB_3.0_20171201_2000_2016_warp_clip_eurasia_25min_ext.tif\"\n",
    "    #NA\n",
    "    #pf_fn = \"/efs/STG_Tutorial_Data/BorealHeight_RF/prediction/UiO_PEX_PERPROB_3.0_20171201_2000_2016_warp_clip_25min.tif\"\n",
    "    try:\n",
    "        pf = rxr.open_rasterio(pf_fn, mask_and_scale=True).rio.clip_box(minlon, minlat, maxlon, maxlat).sel(band=1).values.ravel()\n",
    "        pf = pf.reshape(-1, 1)\n",
    "        print('Perma shape')\n",
    "        print(pf.shape)\n",
    "    except:\n",
    "        print('No Permafrost Added')\n",
    "    \n",
    "    #get bioclim\n",
    "    bios = extract_bioclim(bio_file, bnds)\n",
    "    print('Bios Shape')\n",
    "    print(bios.shape)\n",
    "    x = np.concatenate([pf, bios], axis=1)\n",
    "    mask = np.isnan(x).any(axis=1)\n",
    "    \n",
    "    return x, mask\n",
    "\n",
    "# function to clip bioclim to aoi\n",
    "def extract_bioclim(files, bnds):\n",
    "    # function to read, clip & reshape bioclim 2.5m data\n",
    "    if len(files)==19:\n",
    "        sl = [rxr.open_rasterio(file, mask_and_scale=True).rio.clip_box(bnds[0], bnds[1], bnds[2], bnds[3]).values.flatten() for file in files]\n",
    "        sub = np.concatenate([sl], axis=1)\n",
    "        sub = np.moveaxis(sub, 0, -1)\n",
    "    else:\n",
    "        ds = rxr.open_rasterio(files[0], mask_and_scale=True).rio.clip_box(bnds[0], bnds[1], bnds[2], bnds[3])\n",
    "        sub = np.moveaxis(ds.values, 0, -1).reshape((-1, 19))\n",
    "    return sub\n",
    "    \n",
    "# funtion to plot result \n",
    "def map_bioclim(arr, mode=\"pred\"):\n",
    "    if mode == \"pred\":\n",
    "        cmap = cmap_p\n",
    "        clim = (0.5, 25.5)\n",
    "        logz = True\n",
    "    if mode == \"diff\":\n",
    "        cmap = \"BrBG\"\n",
    "        clim = (-5.0, 5.0)\n",
    "        logz = False\n",
    "    if mode == \"trend\":\n",
    "        cmap = cmap_t\n",
    "        clim = (-5.0, 5.0)\n",
    "        logz = False\n",
    "        \n",
    "    img_opts = dict(\n",
    "        width=600, \n",
    "        height=300, \n",
    "        logz=logz,\n",
    "        cmap=cmap,\n",
    "        colorbar=True,\n",
    "        clim = clim,\n",
    "        tools=[\"hover\"], active_tools=['wheel_zoom']\n",
    "        )\n",
    "    gv_dataset = gv_dataset = gv.Dataset((lons, lats, arr), ['longitude', 'latitude'], mode)\n",
    "    \n",
    "    return gv.Image(gv_dataset).opts(**img_opts)\n"
   ]
  },
  {
   "cell_type": "markdown",
   "id": "sorted-berry",
   "metadata": {},
   "source": [
    "## Load pretrained model"
   ]
  },
  {
   "cell_type": "code",
   "execution_count": null,
   "id": "566a0d91-49cf-42e5-898c-a3fae989c81b",
   "metadata": {},
   "outputs": [],
   "source": [
    "#rf_model = joblib.load(\"/efs/STG_Tutorial_Data/BorealHeight_RF/prediction/rf_gpu.joblib\")\n",
    "#rf_model = joblib.load(\"/efs/zwwillia/STG-Tutorial/BorealHeight_RF/rf_segLandcov_gpu.joblib\")\n",
    "#rf_model = joblib.load(\"/efs/zwwillia/STG-Tutorial_v1/BorealHeight_RF/rf_polygon_Global_polyDiff_gpu.joblib\")\n",
    "#rf_model = joblib.load(\"/efs/zwwillia/STG-Tutorial_v1/BorealHeight_RF/rf_polygon_gpu.joblib\")\n",
    "\n",
    "#Filtered training data experiment (09/27/22)\n",
    "#rf_model = joblib.load('./rf_polygon_NA_polyDiff_zeroed270922_noPerm_gpu.joblib')\n",
    "rf_model = joblib.load('/explore/nobackup/projects/ilab/projects/forest_height/boreal/rf_model/rf_NA_ATL_max_Perm.joblib')\n",
    "\n",
    "#Original Model\n",
    "#rf_model = joblib.load(\"/efs/STG_Tutorial_Data/BorealHeight_RF/prediction/rf_gpu.joblib\")"
   ]
  },
  {
   "cell_type": "markdown",
   "id": "precise-latitude",
   "metadata": {
    "tags": []
   },
   "source": [
    "## Apply model on bioclim current"
   ]
  },
  {
   "cell_type": "code",
   "execution_count": null,
   "id": "lucky-principle",
   "metadata": {},
   "outputs": [],
   "source": [
    "%%time\n",
    "#fn = '/efs/STG_Tutorial_Data/BorealHeight_RF/prediction/wc2.1_2.5m_bio.vrt'\n",
    "pf_fn = \"/explore/nobackup/projects/ilab/projects/forest_height/boreal/layers/UiO_PEX_PERPROB_3.0_20171201_2000_2016_warp_25min.tif\"\n",
    "flist = [f\"/explore/nobackup/projects/ilab/data/worldclim/1km/bioclim_cmip6/wc2.1_2.5m_bio/wc2.1_2.5m_bio_{id}.tif\" for id in range(1,20)]\n",
    "xc, maskc = build_predictors(flist, bbox, pf_fn=pf_fn)\n"
   ]
  },
  {
   "cell_type": "code",
   "execution_count": null,
   "id": "df2565a7-1f82-4224-8060-c351c0642802",
   "metadata": {},
   "outputs": [],
   "source": [
    "res = rf_model.predict(xc)"
   ]
  },
  {
   "cell_type": "code",
   "execution_count": null,
   "id": "corrected-corruption",
   "metadata": {},
   "outputs": [],
   "source": [
    "# fill back nodata & reshape back to 2D\n",
    "res[maskc]=np.nan\n",
    "predc = res.reshape(shape)"
   ]
  },
  {
   "cell_type": "code",
   "execution_count": null,
   "id": "grateful-there",
   "metadata": {},
   "outputs": [],
   "source": [
    "# show prediction\n",
    "img0 = map_bioclim(predc, 'pred')\n",
    "pn.Column(img0*baseMap)"
   ]
  },
  {
   "cell_type": "code",
   "execution_count": null,
   "id": "f7ced86d-d3fe-47c0-9c38-765999ea2cd5",
   "metadata": {},
   "outputs": [],
   "source": [
    "#save output arrays as GeoTiffs\n",
    "#blueprint is target\n",
    "def save_map(arr,meta,outPut):\n",
    "    #using GDAL\n",
    "    nrows,ncols = np.shape(arr)\n",
    "    x_res = (maxlon-minlon)/float(ncols)\n",
    "    y_res = (maxlat-minlat)/float(nrows)\n",
    "    geotransform = (minlon,x_res,0,maxlat,0,-y_res)\n",
    "    output_raster = gdal.GetDriverByName('GTiff').Create(outPut,ncols,nrows,1,gdal.GDT_Float32)\n",
    "    output_raster.SetGeoTransform(geotransform)\n",
    "    srs = osr.SpatialReference()\n",
    "    srs.ImportFromEPSG(4326)\n",
    "    output_raster.SetProjection(srs.ExportToWkt())\n",
    "    output_raster.GetRasterBand(1).WriteArray(arr)\n",
    "    output_raster.FlushCache()\n",
    "    print('Raster saved!')"
   ]
  },
  {
   "cell_type": "code",
   "execution_count": null,
   "id": "8f5387e1-c91a-402f-a3ca-7dca9aceecaf",
   "metadata": {},
   "outputs": [],
   "source": [
    "#save current map for future analysis\n",
    "#save_map(predc,meta,'/efs/zwwillia/BorealHeight_Data/Outputs/North_America_Current_filtered_noPerm_270922.tif')"
   ]
  },
  {
   "cell_type": "markdown",
   "id": "bigger-cookie",
   "metadata": {},
   "source": [
    "## Apply model on bioclim future (CMIP6)\n",
    "ref: https://www.worldclim.org/data/cmip6/cmip6_clim2.5m.html"
   ]
  },
  {
   "cell_type": "code",
   "execution_count": null,
   "id": "boxed-contest",
   "metadata": {},
   "outputs": [],
   "source": [
    "#cmip_path = \"/efs/STG_Tutorial_Data/BorealHeight_RF/prediction/worldclim_future\"\n",
    "cmip_path = \"/explore/nobackup/projects/ilab/data/worldclim/1km/bioclim_cmip6\"\n",
    "#md = 'IPSL-CM6A-LR'\n",
    "md_list = ['BCC-CSM2-MR','CanESM5','CNRM-CM6-1','IPSL-CM6A-LR','MIROC-ES2L','MIROC6','MRI-ESM2-0']\n",
    "#,'IPSL-CM6A-LR'\n",
    "sn = ['ssp126','ssp245','ssp370','ssp585']\n",
    "#yr = '2021-2040'\n",
    "yr = '2061-2080'\n",
    "#yr = '2081-2100'"
   ]
  },
  {
   "cell_type": "markdown",
   "id": "2ad42dc4-d71d-40cf-961f-45b8fbe57307",
   "metadata": {
    "tags": []
   },
   "source": [
    "#### <center>Available Combinations (CMIP6;  Year 2081-2100)</center>\n",
    "| | GCM  | SSP126    | SSP245   | SSP370   | SSP585   |\n",
    "|---:|:-------------|:-----------|:------|:------|:------|\n",
    "| 1 | BCC-CSM2-MR  | &check; | &check;   | &check;| &check;|\n",
    "| 2 | CanESM5  | &check; | &check;   | &check;| &check;|\n",
    "| 3 | CNRM-CM6-1  | &check; | &check;   | &check;| &check;|\n",
    "| 4 | GFDL-ESM4  | &check; | &check;   |  | |\n",
    "| 5 | IPSL-CM6A-LR  | &check; | &check;   | &check;| &check;|\n",
    "| 6 | MIROC-ES2L  | &check; | &check;   | &check;| &check;|\n",
    "| 7 | MIROC6  | &check; | &check;   | &check;| &check;|\n",
    "| 8 | MRI-ESM2-0  | &check; | &check;   | &check;| &check;|"
   ]
  },
  {
   "cell_type": "code",
   "execution_count": null,
   "id": "virgin-belfast",
   "metadata": {},
   "outputs": [],
   "source": [
    "preds = []\n",
    "diffs = []\n",
    "#label for organizing outputs\n",
    "reg = 'NorthAmerica'\n",
    "#outDir = '/efs/zwwillia/BorealHeight_Data/Outputs/North_America_filtered_noPerm_270922'\n",
    "pf_fn = \"/explore/nobackup/projects/ilab/projects/forest_height/boreal/layers/UiO_PEX_PERPROB_3.0_20171201_2000_2016_warp_25min.tif\"\n",
    "with tqdm(total=len(sn)) as pbar:\n",
    "    for s in sn:\n",
    "        for md in md_list:\n",
    "            fl = os.path.join(cmip_path, f\"wc2.1_2.5m_bioc_{md}_{s}_{yr}.tif\")\n",
    "            pbar.write(f'processing: {os.path.basename(fl)}')\n",
    "            pbar.update(1)\n",
    "            x, msk= build_predictors([fl], bbox, pf_fn=pf_fn)        \n",
    "            #if permafrost/soils removed\n",
    "            #x = x[:,2:]\n",
    "            #res = treelite.gtil.predict(tl_model, x, pred_margin=True)\n",
    "            res = rf_model.predict(x, predict_model='GPU')\n",
    "            res[msk]=np.nan\n",
    "            pred = res.reshape(shape)\n",
    "            #save to file\n",
    "        \n",
    "            preds.append(pred)\n",
    "            diff = pred-predc\n",
    "            diffs.append(diff)\n",
    "            #outfile_pred = os.path.join(outDir, f\"{reg}_{md}_{s}_{yr}.tif\")\n",
    "            #outfile_diff = os.path.join(outDir, f\"{reg}_{md}_{s}_{yr}_DIFF.tif\")\n",
    "            #save_map(pred,meta,outfile_pred)\n",
    "            #save_map(diff,meta,outfile_diff)"
   ]
  },
  {
   "cell_type": "code",
   "execution_count": null,
   "id": "legendary-stream",
   "metadata": {},
   "outputs": [],
   "source": [
    "# show maps\n",
    "rows = []\n",
    "for i in range(0, len(sn)):\n",
    "    pimg = map_bioclim(preds[i], 'pred')\n",
    "    title = f\"Predicted HCan {yr} {sn[i]}\"\n",
    "    pimg.opts(title=title)\n",
    "    dimg = map_bioclim(diffs[i], 'diff')\n",
    "    title = f\"CMIP6 {sn[i]} vs. Current \"\n",
    "    dimg.opts(title=title)\n",
    "    rows.append(pimg*baseMap+dimg*baseMap)"
   ]
  },
  {
   "cell_type": "code",
   "execution_count": null,
   "id": "0e5c9706-b72a-47c4-a129-6a45ce5f6a66",
   "metadata": {},
   "outputs": [],
   "source": [
    "rows"
   ]
  },
  {
   "cell_type": "code",
   "execution_count": null,
   "id": "global-variance",
   "metadata": {},
   "outputs": [],
   "source": [
    "pn.Column(rows[0], \n",
    "          rows[1],\n",
    "          rows[2],\n",
    "          rows[3])"
   ]
  },
  {
   "cell_type": "markdown",
   "id": "6e79c0ab-c6e6-4479-9d18-2048293430b9",
   "metadata": {},
   "source": [
    "# Scatter plot among scenarios"
   ]
  },
  {
   "cell_type": "code",
   "execution_count": null,
   "id": "f815523b-5256-4633-93df-fe37b813275a",
   "metadata": {},
   "outputs": [],
   "source": [
    "# define a pair of predictions, e.g. ('ssp126', 'ssp245') or ('current', 'ssp370')\n",
    "pairs = ('current', 'ssp585')\n"
   ]
  },
  {
   "cell_type": "code",
   "execution_count": null,
   "id": "50c92a8c-dd2e-4191-8ac4-d23f1b6434f2",
   "metadata": {},
   "outputs": [],
   "source": [
    "pred_dict = {'current' : predc,\n",
    "            'ssp126' : preds[0],\n",
    "            'ssp245': preds[1],\n",
    "            'ssp370': preds[1],\n",
    "            'ssp585': preds[2]}"
   ]
  },
  {
   "cell_type": "code",
   "execution_count": null,
   "id": "18f5103a-e6bd-4cb4-8471-8e77b7a0f694",
   "metadata": {},
   "outputs": [],
   "source": [
    "p1 = pred_dict[pairs[0]].ravel()\n",
    "p1 = p1[~np.isnan(p1)]\n",
    "p2 = pred_dict[pairs[1]].ravel()\n",
    "p2 = p2[~np.isnan(p2)]\n",
    "data = np.column_stack((p1, p2))\n",
    "sample_size = 2000\n",
    "s = np.random.choice(data.shape[0], sample_size, replace=False)\n",
    "sample = data[s, :]\n",
    "pts = hv.Points(sample).opts(color='k', marker='+', size=10)\n",
    "pn.Column(pts.opts(width=800, height=400, xlabel=f\"{pairs[0].upper()} Predicted h-can\", ylabel=f\"{pairs[1].upper()} Predicted h-can\"))"
   ]
  },
  {
   "cell_type": "code",
   "execution_count": null,
   "id": "829938c2-e299-4c42-8aec-7f2c3649fd73",
   "metadata": {},
   "outputs": [],
   "source": []
  }
 ],
 "metadata": {
  "kernelspec": {
   "display_name": "ILAB Kernel (TensorFlow)",
   "language": "python",
   "name": "tensorflow-kernel"
  },
  "language_info": {
   "codemirror_mode": {
    "name": "ipython",
    "version": 3
   },
   "file_extension": ".py",
   "mimetype": "text/x-python",
   "name": "python",
   "nbconvert_exporter": "python",
   "pygments_lexer": "ipython3",
   "version": "3.8.16"
  }
 },
 "nbformat": 4,
 "nbformat_minor": 5
}
